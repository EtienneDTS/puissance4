{
 "cells": [
  {
   "cell_type": "markdown",
   "id": "bab212ca",
   "metadata": {
    "slideshow": {
     "slide_type": "slide"
    }
   },
   "source": [
    "# Principaux types en python\n",
    "\n",
    "## Nombres entiers ($int$)\n",
    "\n",
    "## Nombres flottants ($float$)\n",
    "\n",
    "## Booléens ($bool$)\n",
    "\n",
    "## Chaînes de caractères ($str$)"
   ]
  },
  {
   "cell_type": "markdown",
   "id": "fb0878e8",
   "metadata": {
    "slideshow": {
     "slide_type": "slide"
    }
   },
   "source": [
    "# Nombres entiers ($int$)\n",
    "\n",
    "Python (comme tout les languages) permet d'effectuer des calculs sur des **nombre entiers** \n"
   ]
  },
  {
   "cell_type": "code",
   "execution_count": null,
   "id": "cb63bad7",
   "metadata": {
    "slideshow": {
     "slide_type": "-"
    }
   },
   "outputs": [],
   "source": [
    "1 + 1 # addition"
   ]
  },
  {
   "cell_type": "code",
   "execution_count": null,
   "id": "51281298",
   "metadata": {
    "slideshow": {
     "slide_type": "-"
    }
   },
   "outputs": [],
   "source": [
    "2 - 3 # soustraction"
   ]
  },
  {
   "cell_type": "code",
   "execution_count": null,
   "id": "68a700b4",
   "metadata": {
    "slideshow": {
     "slide_type": "-"
    }
   },
   "outputs": [],
   "source": [
    "3 * 4 # multiplication"
   ]
  },
  {
   "cell_type": "code",
   "execution_count": null,
   "id": "97f5b180",
   "metadata": {
    "slideshow": {
     "slide_type": "-"
    }
   },
   "outputs": [],
   "source": [
    "5 // 3 # division entière, à ne pas mélanger avec la division réelle /"
   ]
  },
  {
   "cell_type": "code",
   "execution_count": null,
   "id": "4198a7b8",
   "metadata": {
    "slideshow": {
     "slide_type": "-"
    }
   },
   "outputs": [],
   "source": [
    "100 % 10 # modulo (reste de la division euclidienne)"
   ]
  },
  {
   "cell_type": "code",
   "execution_count": null,
   "id": "7a8c34f2",
   "metadata": {
    "slideshow": {
     "slide_type": "-"
    }
   },
   "outputs": [],
   "source": [
    "6**2 # puissance"
   ]
  },
  {
   "cell_type": "code",
   "execution_count": null,
   "id": "3dbf1465",
   "metadata": {
    "slideshow": {
     "slide_type": "-"
    }
   },
   "outputs": [],
   "source": [
    "((5 + 18)* 36 / 12) ** 3 # Les opérateurs peuvent être combinés en respectant la priorité mathématique des opérations. N'hésitez pas à utiliser les parenthèses pour forcer les priorités et rendre vos algorithmes plus lisible."
   ]
  },
  {
   "cell_type": "markdown",
   "id": "3fabf121",
   "metadata": {
    "slideshow": {
     "slide_type": "slide"
    }
   },
   "source": [
    "# Nombres flottants ($float$)\n",
    "\n",
    "On peut aussi représenter des nombres à virgule, ce sont les flottants $float$ (*floating point number*).\n",
    "\n",
    "Un nombre flottant se compose d'une partie entière composée de chiffres, un $.$, et une partie décimale composée de chiffres.\n"
   ]
  },
  {
   "cell_type": "code",
   "execution_count": null,
   "id": "71c87c0b",
   "metadata": {
    "slideshow": {
     "slide_type": "slide"
    }
   },
   "outputs": [],
   "source": [
    "2.5 + 3.7 #addition"
   ]
  },
  {
   "cell_type": "code",
   "execution_count": null,
   "id": "aea18a4c",
   "metadata": {
    "slideshow": {
     "slide_type": "-"
    }
   },
   "outputs": [],
   "source": [
    "2.5 - 3.7 # soustraction"
   ]
  },
  {
   "cell_type": "code",
   "execution_count": null,
   "id": "9c5fbedf",
   "metadata": {
    "slideshow": {
     "slide_type": "-"
    }
   },
   "outputs": [],
   "source": [
    "2.5 * 3.7 # multiplication"
   ]
  },
  {
   "cell_type": "code",
   "execution_count": null,
   "id": "861e677f",
   "metadata": {
    "slideshow": {
     "slide_type": "-"
    }
   },
   "outputs": [],
   "source": [
    "2.5 / 3.7 # Division réelle, à ne pas mélanger avec la division entière /"
   ]
  },
  {
   "cell_type": "code",
   "execution_count": null,
   "id": "d0bbc51c",
   "metadata": {
    "slideshow": {
     "slide_type": "-"
    }
   },
   "outputs": [],
   "source": [
    "2.5 ** 3.7 # puissance"
   ]
  },
  {
   "cell_type": "code",
   "execution_count": null,
   "id": "d3778fff",
   "metadata": {
    "slideshow": {
     "slide_type": "-"
    }
   },
   "outputs": [],
   "source": [
    "1.0 / 3.0"
   ]
  },
  {
   "cell_type": "code",
   "execution_count": null,
   "id": "6d07c362",
   "metadata": {
    "slideshow": {
     "slide_type": "-"
    }
   },
   "outputs": [],
   "source": [
    "1 * 2.5 # On peut aussi effectuer les opérations entre des entiers et des flottants"
   ]
  },
  {
   "cell_type": "markdown",
   "id": "4d0b2fdd",
   "metadata": {
    "slideshow": {
     "slide_type": "slide"
    }
   },
   "source": [
    "# Booléens ($bool$)\n",
    "\n",
    "Un booléen permet de représenter une valeur de vérité qui est soit $True$, c'est à dire Vraie, soit $False$, c'est à dire fausse. "
   ]
  },
  {
   "cell_type": "code",
   "execution_count": null,
   "id": "e5378674",
   "metadata": {
    "slideshow": {
     "slide_type": "-"
    }
   },
   "outputs": [],
   "source": [
    "False and True"
   ]
  },
  {
   "cell_type": "code",
   "execution_count": null,
   "id": "b133e610",
   "metadata": {},
   "outputs": [],
   "source": [
    "True or False"
   ]
  },
  {
   "cell_type": "code",
   "execution_count": null,
   "id": "3ba86a77",
   "metadata": {},
   "outputs": [],
   "source": [
    "not True"
   ]
  },
  {
   "cell_type": "markdown",
   "id": "306f6e90",
   "metadata": {
    "slideshow": {
     "slide_type": "slide"
    }
   },
   "source": [
    "## Chaînes de caractères ($str$)\n",
    "\n",
    "Une chaine de caractères $str$ est un type qui permet de stocker et manipuler du texte. Python supporte le codage UNICODE : https://fr.wikipedia.org/wiki/Unicode\n",
    "\n",
    "Une chaine de caractère est délimitée par les caractères $'$ ou $\"$."
   ]
  },
  {
   "cell_type": "code",
   "execution_count": null,
   "id": "2258650c",
   "metadata": {
    "slideshow": {
     "slide_type": "-"
    }
   },
   "outputs": [],
   "source": [
    "'Hello'"
   ]
  },
  {
   "cell_type": "code",
   "execution_count": null,
   "id": "0db28329",
   "metadata": {
    "slideshow": {
     "slide_type": "-"
    }
   },
   "outputs": [],
   "source": [
    "\"World\""
   ]
  },
  {
   "cell_type": "code",
   "execution_count": null,
   "id": "7664b432",
   "metadata": {
    "slideshow": {
     "slide_type": "slide"
    }
   },
   "outputs": [],
   "source": [
    "'Aujourd'hui' # Il y a une ambiguité introduite par le mot"
   ]
  },
  {
   "cell_type": "code",
   "execution_count": null,
   "id": "fb98f845",
   "metadata": {
    "slideshow": {
     "slide_type": "-"
    }
   },
   "outputs": [],
   "source": [
    "\"Aujourd'hui\" # L'alternance \" et ' permet de lever cette ambiguité"
   ]
  },
  {
   "cell_type": "code",
   "execution_count": null,
   "id": "edbf1f43",
   "metadata": {
    "slideshow": {
     "slide_type": "-"
    }
   },
   "outputs": [],
   "source": [
    "'Aujourd\"hui'"
   ]
  },
  {
   "cell_type": "code",
   "execution_count": null,
   "id": "f139b4a9",
   "metadata": {
    "slideshow": {
     "slide_type": "-"
    }
   },
   "outputs": [],
   "source": [
    "'Aujourd\\'hui' # On peut utiliser le caractère d'échappement \\"
   ]
  },
  {
   "cell_type": "markdown",
   "id": "e26780d8",
   "metadata": {
    "slideshow": {
     "slide_type": "slide"
    }
   },
   "source": [
    "On peut effecuter des opérations sur les chaines de caractère:"
   ]
  },
  {
   "cell_type": "code",
   "execution_count": null,
   "id": "0694f01a",
   "metadata": {},
   "outputs": [],
   "source": [
    "'Hello' + 'World!' # La concatenantion avec l'opérateur +\n",
    "print(\"hello\")"
   ]
  },
  {
   "cell_type": "code",
   "execution_count": null,
   "id": "d728f67d",
   "metadata": {},
   "outputs": [],
   "source": [
    "'Hello' + ' ' +  'World!' # On peut ajouter des espaces"
   ]
  },
  {
   "cell_type": "code",
   "execution_count": null,
   "id": "3c72469d",
   "metadata": {},
   "outputs": [],
   "source": [
    "'Hell' + 'o'*10 # La répétition d'un caractère avec *"
   ]
  },
  {
   "cell_type": "markdown",
   "id": "19521ffb",
   "metadata": {
    "slideshow": {
     "slide_type": "slide"
    }
   },
   "source": [
    "On peut aussi utiliser des opérateurs de comparaison:"
   ]
  },
  {
   "cell_type": "code",
   "execution_count": null,
   "id": "145ddb65",
   "metadata": {},
   "outputs": [],
   "source": [
    "\"Hello World\" == \"hello world\" # L'égalité"
   ]
  },
  {
   "cell_type": "code",
   "execution_count": null,
   "id": "47b20ca1",
   "metadata": {},
   "outputs": [],
   "source": [
    "\"HelloWorld\" != \"Hello World\" # L'inégalité (sensible à la casse!)"
   ]
  },
  {
   "cell_type": "code",
   "execution_count": null,
   "id": "4c92e9d1",
   "metadata": {},
   "outputs": [],
   "source": [
    "\"a\" < \"b\" # On peut vérifier l'odre lexicographique par rapport à la position des lettres dans la table Unicode"
   ]
  },
  {
   "cell_type": "code",
   "execution_count": null,
   "id": "7a14a1b7",
   "metadata": {},
   "outputs": [],
   "source": [
    "\"Z\" > \"z\""
   ]
  },
  {
   "cell_type": "markdown",
   "id": "61cd9be4",
   "metadata": {
    "slideshow": {
     "slide_type": "slide"
    }
   },
   "source": [
    "Les chaines de caractères permettent de stocker un ensemble de caractères dans un tableau (nous verrons les tableaux dans la partie *structures de données*). \n",
    "\n",
    "On dispose donc d'opérateurs permettant de connaitre la taille de la chaîne ou de récupérer un caractère spécifique, on une sous-chaine."
   ]
  },
  {
   "cell_type": "code",
   "execution_count": null,
   "id": "70abb3b7",
   "metadata": {},
   "outputs": [],
   "source": [
    "len(\"Hello World\") # La fonction len($string$) permet de connaitre la taille d'une string."
   ]
  },
  {
   "cell_type": "code",
   "execution_count": null,
   "id": "506a1ca5",
   "metadata": {},
   "outputs": [],
   "source": [
    "\"Hello World\"[0] #On accède ici au premier caractère de la chaine (d'indice 0). "
   ]
  },
  {
   "cell_type": "code",
   "execution_count": null,
   "id": "0f92a162",
   "metadata": {
    "scrolled": true
   },
   "outputs": [],
   "source": [
    "\"Hello World\"[100]"
   ]
  },
  {
   "cell_type": "code",
   "execution_count": null,
   "id": "d3b4988e",
   "metadata": {},
   "outputs": [],
   "source": [
    "\"Hello World\"[:3] # La sous chaine comprenant les 3 premiers caractères"
   ]
  },
  {
   "cell_type": "code",
   "execution_count": null,
   "id": "2cff3dd2",
   "metadata": {},
   "outputs": [],
   "source": [
    "\"Hello World\"[:3] # La sous chaine commençant au 4ème caractères"
   ]
  },
  {
   "cell_type": "markdown",
   "id": "c7583766",
   "metadata": {
    "slideshow": {
     "slide_type": "subslide"
    }
   },
   "source": [
    "Attention: Les chaînes de caractères sont indicées à partir de 0. Le premier caractère a l'indice 0, le deuxième a l'indice 1, etc... \n",
    "\n",
    "**En Python, lorsque l'on sélectionne un sous ensemble d'une chaîne à l'aide de bornes, la borne inférieure est incluse, et la borne supérieure est exclue.**"
   ]
  },
  {
   "cell_type": "code",
   "execution_count": null,
   "id": "34949284",
   "metadata": {},
   "outputs": [],
   "source": [
    "\"12345\"[1:3]"
   ]
  },
  {
   "cell_type": "code",
   "execution_count": null,
   "id": "e1ac1068",
   "metadata": {},
   "outputs": [],
   "source": [
    "\"12345\"[0:4]"
   ]
  },
  {
   "cell_type": "markdown",
   "id": "943991bb",
   "metadata": {
    "slideshow": {
     "slide_type": "slide"
    }
   },
   "source": [
    "# Les méthodes des chaines de caractères\n",
    "\n",
    "Les $string$ possèdent un ensemble de **méthodes** (nous reverrons cette notion au second semestre). \n",
    "\n",
    "Ces **méthodes** sont des opérations spécifiques à la chaine de caractère. Pour appeler une **méthode**, on utilise l'opérateur *.* . La méthode exécute alors une opération et nous **retourne** une valeur. On peut retrouver la liste des méthodes dans la documentation Python : https://docs.python.org/3/library/stdtypes.html#string-methods\n",
    "\n",
    "On peut par exemple passer la chaine de la majuscule à la minuscule."
   ]
  },
  {
   "cell_type": "code",
   "execution_count": null,
   "id": "412e3e2a",
   "metadata": {},
   "outputs": [],
   "source": [
    "\"hello\".upper() # Ici, l'execution de .upper() sur la chaine \"hello\" retourne \"HELLO\""
   ]
  },
  {
   "cell_type": "code",
   "execution_count": null,
   "id": "10086662",
   "metadata": {},
   "outputs": [],
   "source": [
    "\"hello\".lower()"
   ]
  },
  {
   "cell_type": "markdown",
   "id": "3abbfc69",
   "metadata": {
    "slideshow": {
     "slide_type": "slide"
    }
   },
   "source": [
    "# Les variables\n",
    "\n",
    "\n",
    "Une **variable** est un nom qui fait **référence** à une valeur. \n"
   ]
  },
  {
   "cell_type": "code",
   "execution_count": null,
   "id": "30104b20",
   "metadata": {},
   "outputs": [],
   "source": [
    "mon_message = 10 # On stocke dans la variable mon_message la valeure 10"
   ]
  },
  {
   "cell_type": "markdown",
   "id": "ee986872",
   "metadata": {},
   "source": [
    "Je peux maintenant utiliser la variable ***mon_message*** pour effectuer des opérations."
   ]
  },
  {
   "cell_type": "code",
   "execution_count": null,
   "id": "4f1e762c",
   "metadata": {},
   "outputs": [],
   "source": [
    "mon_message + 10 # Ici, j'affiche le résultat de l'opération, je ne change pas la valeure de la variable"
   ]
  },
  {
   "cell_type": "code",
   "execution_count": null,
   "id": "628a0fa7",
   "metadata": {},
   "outputs": [],
   "source": [
    "mon_meessage = mon_message + 10 # Ici, je modifie la valeure de ma variable"
   ]
  },
  {
   "cell_type": "markdown",
   "id": "cf194b96",
   "metadata": {},
   "source": [
    "Une variable ne fait référence qu'à une seule valeur à la fois. Dès que nous utilisons une instruction d'affectation pour qu'une variable se réfère à une autre valeur, elle ne se réfère plus à l'ancienne valeur. Nous pouvons avoir autant de variables que nous le souhaitons."
   ]
  },
  {
   "cell_type": "markdown",
   "id": "e9e81030",
   "metadata": {
    "slideshow": {
     "slide_type": "slide"
    }
   },
   "source": [
    "# ⚠️Bonne pratique\n",
    "\n",
    "- Convention pep 8\n",
    "- Donner un vrai nom aux variables"
   ]
  },
  {
   "cell_type": "markdown",
   "id": "9910e51d",
   "metadata": {
    "slideshow": {
     "slide_type": "subslide"
    }
   },
   "source": [
    "Même si les variables sont bien nommées, l'utilisation de commentaires est toujours recommandée pour éviter les ambiguité."
   ]
  },
  {
   "cell_type": "code",
   "execution_count": null,
   "id": "2645465e",
   "metadata": {
    "scrolled": true
   },
   "outputs": [],
   "source": [
    "prix_initial = 12 # Le prix de mon produit\n",
    "pourcentage_reduction = 20 # Le montant de la réduction en %\n",
    "prix_final = 12 * ((100-pourcentage_reduction)/100) # J'applique la réduction\n",
    "print(prix_final) # J'affiche le résultat"
   ]
  },
  {
   "cell_type": "markdown",
   "id": "47cbd4a1",
   "metadata": {
    "slideshow": {
     "slide_type": "slide"
    }
   },
   "source": [
    "# Typage dynamique\n",
    "En Python, on ne déclare pas le type de la variable avant de s'en servir. C'est ce que l'on appel du typage dynamique, le type de la variable est déterminé en fonction du résultat de l'évaluation de l'expression."
   ]
  },
  {
   "cell_type": "code",
   "execution_count": null,
   "id": "b7d65cb9",
   "metadata": {},
   "outputs": [],
   "source": [
    "mon_message = \"Hello World\" # Je déclare une string, qui contient le message \"Hello World\"\n",
    "type(mon_message) # Mon type est str"
   ]
  },
  {
   "cell_type": "code",
   "execution_count": 3,
   "id": "2cc529c1",
   "metadata": {},
   "outputs": [
    {
     "data": {
      "text/plain": [
       "int"
      ]
     },
     "execution_count": 3,
     "metadata": {},
     "output_type": "execute_result"
    }
   ],
   "source": [
    "mon_message = 10 # J'utilise le même nom de variable pour stocker un entier\n",
    "type(mon_message) # C'est maintenant un entier."
   ]
  },
  {
   "cell_type": "code",
   "execution_count": 4,
   "id": "01e2ee5e",
   "metadata": {},
   "outputs": [
    {
     "data": {
      "text/plain": [
       "True"
      ]
     },
     "execution_count": 4,
     "metadata": {},
     "output_type": "execute_result"
    }
   ],
   "source": [
    "type(mon_message) == int"
   ]
  },
  {
   "cell_type": "markdown",
   "id": "6a04645a",
   "metadata": {},
   "source": [
    "⚠️ Il est donc possible qu'une variable change de type! Il faudra donc faire attention à bien vérifier son type pour éviter les erreurs. "
   ]
  },
  {
   "cell_type": "markdown",
   "id": "1b766a75",
   "metadata": {
    "slideshow": {
     "slide_type": "slide"
    }
   },
   "source": [
    "# ✔️Concept check\n",
    "Quel est le résultat de l'exécution du code suivant:"
   ]
  },
  {
   "cell_type": "code",
   "execution_count": 6,
   "id": "c5e3a5e2",
   "metadata": {},
   "outputs": [
    {
     "name": "stdout",
     "output_type": "stream",
     "text": [
      "22.0\n",
      "<class 'float'>\n"
     ]
    }
   ],
   "source": [
    "x = 37\n",
    "y = x + 2\n",
    "x = 20\n",
    "y = x + 2.0\n",
    "print(y)\n",
    "print(type(y))"
   ]
  },
  {
   "cell_type": "markdown",
   "id": "4daa75db",
   "metadata": {},
   "source": [
    "De quel type est la variable $y$? Quel est le résultat ?"
   ]
  },
  {
   "cell_type": "markdown",
   "id": "10370279",
   "metadata": {
    "slideshow": {
     "slide_type": "slide"
    }
   },
   "source": [
    "# Saisie et Affichage\n",
    "\n",
    "Pour écrire un programme interactif, il est nécessaire de pouvoir lire des saisies de l'utilisateur et d'afficher des messages. Dans la console et dans le notebook, on peut utiliser deux fonctions dédiées:\n",
    "* **input()**, qui permet de récupérer une saisie clavier (l'utilisateur valide sa saisie avec la touche entrée). **input()** nous retourne toujours une chaine de caractères.\n",
    "* **print(str)**, qui affiche le contenu d'une chaine de caractère dans la console. "
   ]
  },
  {
   "cell_type": "code",
   "execution_count": null,
   "id": "49adbfe2",
   "metadata": {},
   "outputs": [],
   "source": [
    "print(input())"
   ]
  },
  {
   "cell_type": "code",
   "execution_count": null,
   "id": "b967025d",
   "metadata": {
    "scrolled": true
   },
   "outputs": [],
   "source": [
    "ma_variable = input()\n",
    "print(ma_variable)\n",
    "ma_variable = ma_variable + \" ! \"\n",
    "print(ma_variable)"
   ]
  },
  {
   "cell_type": "markdown",
   "id": "820f615b",
   "metadata": {
    "slideshow": {
     "slide_type": "slide"
    }
   },
   "source": [
    "# ⚠️Bonne pratique\n",
    "\n",
    "**Ne jamais faire confiance à la saisie utilisateur**"
   ]
  },
  {
   "cell_type": "markdown",
   "id": "e66883ae",
   "metadata": {
    "slideshow": {
     "slide_type": "slide"
    }
   },
   "source": [
    "# Conversion entre types\n",
    "\n",
    "Regardons le résultat du code suivant:"
   ]
  },
  {
   "cell_type": "code",
   "execution_count": null,
   "id": "b8dff2fd",
   "metadata": {},
   "outputs": [],
   "source": [
    "print(\"Saisissez votre valeur:\")\n",
    "val = input()\n",
    "val + 5"
   ]
  },
  {
   "cell_type": "markdown",
   "id": "8eab3c14",
   "metadata": {},
   "source": [
    "L'utilisateur a saisi \"54\", qui est lu sous la forme d'une chaine de caractères. Puis il essaie d'ajouter la valeur 5 à la chaine de caractères. Il obtient une erreur de Type : TypeError: can only concatenate str (not \"int\") to str"
   ]
  },
  {
   "cell_type": "markdown",
   "id": "2c96a707",
   "metadata": {
    "slideshow": {
     "slide_type": "slide"
    }
   },
   "source": [
    "Pour ne pas avoir cette erreur, il faut que $val$ soit de type $int$.\n",
    "\n",
    "Pour cela, on peut spécifier le type de la variable que l'on veut, grâce à une opération de conversion appelée \"cast\"."
   ]
  },
  {
   "cell_type": "code",
   "execution_count": null,
   "id": "480ae6b1",
   "metadata": {},
   "outputs": [],
   "source": [
    "print(\"Saisissez votre valeur:\")\n",
    "val = int(input()) # On récupère ici un entier\n",
    "print(\"Saisissez votre nouvelle valeur:\")\n",
    "val = float(input()) # On récupère ici un flottant."
   ]
  },
  {
   "cell_type": "markdown",
   "id": "a66280bf",
   "metadata": {
    "slideshow": {
     "slide_type": "slide"
    }
   },
   "source": [
    "# Formater l'affichage\n",
    "\n",
    "Depuis Python 3.6, f-strings permet d’insérer des expressions dans des chaines de caractères en utilisant une syntaxe minimale. Ces expressions servent à insérer des variables dans les chaines de caractères et de les mettre en forme.\n"
   ]
  },
  {
   "cell_type": "code",
   "execution_count": 7,
   "id": "0f4f9b8f",
   "metadata": {},
   "outputs": [
    {
     "name": "stdout",
     "output_type": "stream",
     "text": [
      "saisie ton nom : Michel\n",
      "Le nom de l'utilisateur est Michel.\n"
     ]
    }
   ],
   "source": [
    "name = input(\"saisie ton nom : \")\n",
    "print(f\"Le nom de l'utilisateur est {name}.\")"
   ]
  },
  {
   "cell_type": "code",
   "execution_count": null,
   "id": "065043fa",
   "metadata": {},
   "outputs": [],
   "source": [
    "PI = 3.14159265359\n",
    "print (\"{:.2f}\".format(PI)) # On veut afficher PI en respectant le format .2f, c'est à dire avec 2 décimales"
   ]
  },
  {
   "cell_type": "markdown",
   "id": "8f7e1639",
   "metadata": {},
   "source": [
    "## Les fonction de transformation de valeur\n",
    "\n",
    "***str( )***\n",
    "\n",
    "***float( )***\n",
    "\n",
    "***int( )***\n"
   ]
  },
  {
   "cell_type": "code",
   "execution_count": 10,
   "id": "8251a11f",
   "metadata": {},
   "outputs": [
    {
     "name": "stdout",
     "output_type": "stream",
     "text": [
      "2\n",
      "2\n",
      "2.0\n",
      "1\n",
      "<class 'str'>\n"
     ]
    }
   ],
   "source": [
    "number_int = 2\n",
    "number_float = 2.0\n",
    "number_str = '1'\n",
    "\n",
    "print(str(number_int))\n",
    "print(int(number_float))\n",
    "print(float(number_int))\n",
    "print(int(number_str))\n",
    "\n",
    "print(type(str(number_int)))\n"
   ]
  },
  {
   "cell_type": "markdown",
   "id": "9631b1c4",
   "metadata": {},
   "source": [
    "## Les opérateurs"
   ]
  },
  {
   "cell_type": "code",
   "execution_count": null,
   "id": "26f6452b",
   "metadata": {},
   "outputs": [],
   "source": [
    "1<3 #inférieur "
   ]
  },
  {
   "cell_type": "code",
   "execution_count": 11,
   "id": "79b8ed99",
   "metadata": {},
   "outputs": [
    {
     "data": {
      "text/plain": [
       "True"
      ]
     },
     "execution_count": 11,
     "metadata": {},
     "output_type": "execute_result"
    }
   ],
   "source": [
    "2>1 #suppérieur"
   ]
  },
  {
   "cell_type": "code",
   "execution_count": null,
   "id": "d25f3212",
   "metadata": {},
   "outputs": [],
   "source": [
    "2>=2 #suppérieur ou égal"
   ]
  },
  {
   "cell_type": "code",
   "execution_count": null,
   "id": "67ad828e",
   "metadata": {},
   "outputs": [],
   "source": [
    "4<=10 #inférieur ou égal"
   ]
  },
  {
   "cell_type": "code",
   "execution_count": null,
   "id": "292c6bca",
   "metadata": {},
   "outputs": [],
   "source": [
    "3 != 5 #différent"
   ]
  },
  {
   "cell_type": "code",
   "execution_count": null,
   "id": "e59c82f3",
   "metadata": {},
   "outputs": [],
   "source": [
    "3 == 5 #égalité"
   ]
  },
  {
   "cell_type": "markdown",
   "id": "e4a887e2",
   "metadata": {},
   "source": [
    "# Exercice : Additionneur\n",
    "\n",
    "Objectif : Créer une calculatrice simple qui peut effectuer des opérations de base (addition, soustraction, multiplication, division) sur deux nombres saisis par l'utilisateur.\n",
    "\n",
    "## Instructions :\n",
    "\n",
    "Demandez à l'utilisateur d'entrer deux nombres.\n",
    "Demandez à l'utilisateur de choisir l'opération à effectuer (addition, soustraction, multiplication, division) \n",
    "Effectuez l'opération choisie et affichez le résultat.\n",
    "Exemple d'interaction avec l'utilisateur :\n",
    "\n",
    "\n",
    "`Entrez le premier nombre : 10`\n",
    "\n",
    "`Entrez le deuxième nombre : 5`\n",
    "\n",
    "`Le résultat de l'addition de 10 et 5 est : 15`"
   ]
  },
  {
   "cell_type": "code",
   "execution_count": null,
   "id": "5956474c",
   "metadata": {},
   "outputs": [],
   "source": []
  }
 ],
 "metadata": {
  "celltoolbar": "Diaporama",
  "kernelspec": {
   "display_name": "Python 3 (ipykernel)",
   "language": "python",
   "name": "python3"
  },
  "language_info": {
   "codemirror_mode": {
    "name": "ipython",
    "version": 3
   },
   "file_extension": ".py",
   "mimetype": "text/x-python",
   "name": "python",
   "nbconvert_exporter": "python",
   "pygments_lexer": "ipython3",
   "version": "3.11.4"
  }
 },
 "nbformat": 4,
 "nbformat_minor": 5
}
